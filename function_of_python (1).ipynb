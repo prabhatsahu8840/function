{
  "nbformat": 4,
  "nbformat_minor": 0,
  "metadata": {
    "colab": {
      "provenance": []
    },
    "kernelspec": {
      "name": "python3",
      "display_name": "Python 3"
    },
    "language_info": {
      "name": "python"
    }
  },
  "cells": [
    {
      "cell_type": "markdown",
      "source": [],
      "metadata": {
        "id": "iY0GH9PKwjXP"
      }
    },
    {
      "cell_type": "markdown",
      "source": [
        "# Data types and structure\n",
        "*italicised text*"
      ],
      "metadata": {
        "id": "j_ITe-oFtlFN"
      }
    },
    {
      "cell_type": "markdown",
      "source": [
        "#1. what are data structures and why are they important?\n",
        "ANS=Data Structures are ways of organizing and storing data so that it can\n",
        "be accessed and modied efciently. Each type of data structure is\n",
        "optimized for specic tasks, and understanding when to use which one is\n",
        "crucial for writing efcient code.\n",
        "\n",
        "—important\n",
        "\n",
        "-Efficiency-the right data structure can drastically improve the speed and memory usage of your programe\n",
        "-organization- data structures provide a way to organize and store data\n",
        "-Code readability- data structure makes easy to understand.\n",
        "#2. explain the difference between mutable and immutable data type with example?\n",
        "ANS=-Immutable Objects are of in-built data type like int, oat, bool\n",
        "string,Unicode, and tuple. In simple words, an immutable object can’t be changed after it is created.\n",
        "\n",
        "Example 1: In this example, we will take a tuple and try to modify its value at\n",
        "a particular index and print it. As a tuple is an immutable object, it will throw\n",
        "an error when we try to modify it.\n",
        "# Python code to test that\n",
        "# tuples are immutable\n",
        "tuple1 = (0, 1, 2, 3)\n",
        "tuple1[0] = 4\n",
        "print(tuple1)\n",
        "Mutable In Python, lists are a widely used data structure that allows the storage and\n",
        "manipulation of a collection of items. One of the key characteristics of lists is their\n",
        "mutability, which refers to the ability to modify the list after it has been created.\n",
        "Here is an example of dictionary that are mutable i.e., we can make changes in the\n",
        "Dictionary.\n",
        "my_dict = {\"name\": \"Ram\", \"age\": 25}\n",
        "new_dict = my_dict\n",
        "new_dict[\"age\"] = 37\n",
        "print(my_dict)\n",
        "print(new_dict)\n",
        "\n",
        "#3. what are the main diff between list and tuple?\n",
        "ANS=\n",
        "1.List are mutable                             1. tuple are immutable\n",
        "2.The list is better for performing operation  2. a tuple data type is\n",
        "appropriate for,such as insertion and deletion accessing the element.\n",
        "\n",
        "#4. . Describe how dictionaries store data?\n",
        "ANS= A dictionary is a general-purpose data structure for storing a group of objects.\n",
        "A dictionary has a set of keys and each key has a single associated value.\n",
        "When presented with a key, the dictionary will return the associated value.\n",
        "\n",
        "#5. .why might you use a set instead of a list in python?\n",
        "ANS= In Python, both lists and sets are used to store collections of items, but they have different properties and\n",
        "use cases.\n",
        "\n",
        "Denition and Creation\n",
        "\n",
        "List: A list is an ordered collection of items that can contain duplicates. Lists are created using square\n",
        "brackets [] or the list() constructor\n",
        ".\n",
        "my_list = [1, 2, 3, 4, 5]\n",
        "another_list = list((6, 7, 8, 9, 10))\n",
        "\n",
        "Set: A set is an unordered collection of unique items. Sets are created using curly braces {} or the set()\n",
        "constructor.\n",
        "\n",
        "my_set = {1, 2, 3, 4, 5}\n",
        "another_set = set((6, 7, 8, 9, 10))\n",
        "\n",
        "#6. what is a string in python and how is it different from a list?\n",
        "ANS= A string is a sequence of characters that can be a combination of letters,numbers, and special characters. It can be declared in python by using single quotes, double quotes, or even triple quotes. These quotes are not a part of a string, they dene only starting. and ending of the string. Strings are immutable,\n",
        "i.e., they cannot be changed. Each element of the string can be accessed using indexing or slicing operations.\n",
        "\n",
        "In Python, lists and strings are both sequence data types, but they have distinct characteristics\n",
        "and uses\n",
        "\n",
        "#7.how do tuples ensure data integrity in python?\n",
        "ANS= A tuple in python is an immutable ordered collection of elements. Tuples are similar to lists, but unlike lists, they cannot be changed after their creation (i.e.,they are immutable). Tuples can hold elements of different data types. The main characteristics of tuples are being ordered , heterogeneous and immutable.\n",
        "\n",
        "#8.what is hash table, and how does it relate to dictionaries in python?\n",
        "ANS= A Hash table is dened as a data structure used to insert, look up, and remove key-value pairs quickly. It operates on the hashing concept, where each key is translated by a hash function into a distinct index in an array. The index functions as a storage location for the matching value. In simple words, it maps the keys with the value.\n",
        "\n",
        "---Key-Value Storage: Both structures store data in key-value pairs, where each key is unique.\n",
        "\n",
        "--Efficiency: Both are designed to allow for quick data retrieval. Hash tables achieve this through hashing, and Python\n",
        "\n",
        "---dictionaries are optimized for quick lookup by using a similar hashing mechanism.Dynamic Resizing: Many implementations of hash tables and Python dictionaries resize dynamically. This resizing is crucial to maintain operations’ efficiency as the number of elements grows.\n",
        "\n",
        "#9.  can lists contain different data type in python?\n",
        "ANS= Yes, in Python, lists can contain different data types. A single list can hold integers, strings, floats, booleans, or even other lists and objects.\n",
        "\n",
        "In the example above, the list contains an integer 4, a string “hello”, a float 3.4, a boolean true, and another list[1,2,3,4]. Python doesn't restrict you to a specific type, so it's flexible in allowing mixed data types.\n",
        "\n",
        "#10. Explain why string are immutable in python?\n",
        "ANS= Strings in Python are “immutable” which means they can not be changed after they are created. Some other immutable data types are integers, oat, boolean, etc. The immutability of Python string is very\n",
        "useful as it helps in hashing, performance optimization, safety, ease of use, etc.\n",
        "The article will explore the differences between mutable and immutable objects, highlighting the advantages of using immutable objects. It will also compare immutability with mutability, discussing various methods to handle immutability and achieve desired outcomes.\n",
        "\n",
        "#11. what advantages do dictionaries offer over lists for certain tasks?\n",
        "ANS= Dictionaries offer several advantages over lists for certain tasks, particularly when you need to store and access data based on a key-value pair rather than by position. Here are some key advantages:\n",
        "\n",
        "Efcient Lookups by Key:\n",
        "\n",
        ". Dictionaries allow for constant time O(1) lookups on average when accessing data by key. This means you can quickly retrieve values without needing to search through all the elements, as you would with a list.\n",
        "\n",
        ". Key-based Access:\n",
        "\n",
        ".With a list, you access data based on the index (position in the list), which means you\n",
        "often need to know the exact position of the item you want to access. In contrast, dictionaries allow you to use any hashable object (like strings, integers, etc.) as a key, providing more exibility.\n",
        "● This is especially useful when you need to represent real-world objects with unique identiers that don’t follow a linear structure.\n",
        "\n",
        "#12. describe a scenario where using a tuple would be preferable over a list?\n",
        "ANS= A scenario where using a tuple would be preferable over a list is when you need to store a collection of values that should remain immutable (unchanged). For example, consider a situation where you're working with coordinates of a location.\n",
        "\n",
        "In this case, the data is not meant to change after it's dened, so a tuple would be a more appropriate choice than a list. Using a tuple here ensures that the data can't be accidentally modied or overwritten maintaining the integrity of the coordinates.\n",
        "\n",
        "Immutability: The values represent xed geographical coordinates. They shouldn't be altered, so using a tuple guarantees that this data is safe from accidental changes.\n",
        "\n",
        "Performance: Tuples are slightly faster than lists in terms of access and memory usage because hey are immutable.\n",
        "\n",
        "Semantic meaning: A tuple conveys that the data is a collection of related values that belong together, but not meant to be modied, unlike a list, which might suggest the data could change.\n",
        "\n",
        "#13. how do sets handle duplicate values in python?\n",
        "ANS= In Python, sets automatically remove duplicate values. A set is an unordered collection of unique elements, meaning that it does not allow duplicate values. When you try to add a duplicate value to a set, it simply ignores the new entry and keeps the existing one.\n",
        "\n",
        "Key Points About Sets:\n",
        "\n",
        "1. No Duplicate Values: Sets automatically handle duplicates by removing them.\n",
        "2. Unordered: The elements in a set do not maintain any specic order. So, when you print a set, it may not appear in the order you added the items.\n",
        "3. Efcient for Membership Tests: Sets provide very fast membership testing (checking if an item is in the set) because of how they are implemented.\n",
        "\n",
        "\n",
        "#14. how does the “in” keyword work differently for lists and dictionaries?\n",
        "ANS= The  'in' keyword in Python works differently for lists and dictionaries because it checks for membership  in  different ways based on the data structure being used.\n",
        "\n",
        "1. Using  in  with a List: When you use  in  with a list, it checks if a value exists anywhere  in  the list. The operation looks for the item by scanning each element of the list and returns True if the value is found.\n",
        "\n",
        "2. Using In with a Dictionary: When you use In with a dictionary, it checks for keys, not values. It tests if the specied key exists in the dictionary, not the value associated with that key. This is an important distinction between how In works with lists and dictionaries.\n",
        "\n",
        "#15. Can you modify the elements of a tuple?why and why not\n",
        "ANS= No, you cannot modify the elements of a tuple in Python after it is created. This is because a tuple is immutable.\n",
        "\n",
        "● Immutability: Tuples are designed to be immutable—once they are created, their contents cannot be changed, added, or removed. This is in contrast to lists, which are mutable and allow modications like appending, removing, or changing elements.\n",
        "\n",
        "● Hashability: Tuples are often used as keys in dictionaries because they are hashable. This is possible because their contents cannot change. If tuples were mutable, theirhash values could change, which would break the dictionary's internal structure, leading to errors or inconsistencies.\n",
        "\n",
        "What can you do with a tuple?\n",
        "\n",
        "● You can access the elements of a tuple, slice it, and iterate over it.\n",
        "● You can create a new tuple based on an existing one (e.g., by concatenating or repeating), but the original tuple itself remains unchanged\n",
        "\n",
        "#16. what is a nested dictionary, and give a example of its use case?\n",
        "ANS= Nesting dictionary means putting a dictionary inside another dictionary. Nesting is of great use as the kind of information we can model in programs is expanded greatly.\n",
        "\n",
        "nested_dict = {'dict1': {'key_A': 'value_A'},\n",
        "'dict2': {'key_B': 'value_B'}}\n",
        "\n",
        "#17. describe the time complexity of accessing element in dictionary?\n",
        "ANS= python dictionaries provide a fast and efcient way to store and retrieve data using key value pair so understanding the time complexities of dictnary operations is very important for optimizing performance in our programs. In this article, we will explore the time complexcity of various dictionary operations.\n",
        "\n",
        "Accessing Elements by Key (O(1))\n",
        "\n",
        "The time complexity of retrieving a value by its key in a dictionary is O(1). This is because dictionaries use a hash table internally which allows constant time lookup Adding a new key-value pair or updating an existing key is also O(1) in average cases as the dictionary directly places the value in the hash table\n",
        ".\n",
        "Deleting an Element (O(1))\n",
        "\n",
        "Removing an element by its key also has an average time complexity of O(1) using the same hash table mechanism.\n",
        "\n",
        "#18. . In what situation are lists preferred over dictionaries?\n",
        "ANS= Lists are typically preferred over dictionaries in situations where:\n",
        "\n",
        "1. Order matters: If the order of elements is important (i.e., you need to maintain a specic sequence), lists are ideal since they preserve the order of insertion.\n",
        "2. Access by index: When you need to access elements using an index (like the rst item, the last item, or any specic position in the list), lists are the go-to structure because you can directly reference elements by their position (e.g., )\n",
        "3. Simple collections of data: If you're storing a simple, ordered collection of items (such as numbers, strings, or other objects) where each element is not uniquely identied by a key, a list is often a more natural choice. For instance, a list of names, numbers, or points.\n",
        "4. Small datasets: If your dataset is relatively small and doesn't require complex lookups, lists might be easier and more straightforward than dictionaries, especially when you're not concerned about having fast lookups by keys.\n",
        "5. Duplicates allowed: Lists allow duplicate elements, so if you need to store several instances of the same value, a list would work better than a dictionary (which requires unique keys).\n",
        "6. Simple iteration: If you want to iterate through items in a straightforward manner without needing to look up a specic value via a key, lists are often simpler for iterating (since you're just dealing with the items in sequence).\n",
        "\n",
        "In contrast, dictionaries are better when you need fast lookups by keys, need to store key-value pairs, or don't care about order.\n",
        "\n",
        "#19. why are dictionaries considered unordered and how does that affect data retrieval?\n",
        "ANS= Dictionaries in Python are considered unordered because, prior to Python 3.7, they didn't guarantee that the items would maintain the order in which they were inserted. This means that the order in which you inserted key-value pairs could be different from the order in which they were stored in the dictionary's internal data structure.\n",
        "\n",
        "However, starting with Python 3.7, dictionaries do preserve insertion order, meaning the order of key-value pairs remains the same as when they were added. So while dictionaries are technically still unordered in terms of how they were conceptualized in earlier versions of Python, modern implementations (Python 3.7+) maintain insertion order, making it seem like they are \"ordered.\"\n",
        "\n",
        "How does this affect data retrieval?\n",
        "\n",
        "● Pre-Python 3.7 (unordered behavior):\n",
        "Since the internal ordering of key-value pairs was not guaranteed, when you retrieved data, you couldn't expect it to come back in the same order in which it was added. This didn't affect the way you accessed data by key, as retrieval by key (e.g., dict[key]) still worked efciently (O(1) time complexity for average case), but if you needed to iterate over the items in a particular order, you couldn't rely on the dictionary for that. You had to explicitly sort it or use other data structures to ensure order.\n",
        "● Post-Python 3.7 (ordered behavior):\n",
        "Dictionaries now maintain the order of insertion, so when you iterate over the dictionary, the items will come out in the order in which they were added. This can be useful if you need to preserve the order without needing a separate data structure like a list. However, this doesn't change the way data is retrieved (i.e., you still retrieve values via keys efciently), but it allows for ordered iteration and can sometimes make your code more intuitive when you expect the data to stay in the same order as inserted.\n",
        "\n",
        "Retrieval Efciency:\n",
        "\n",
        "Despite whether the dictionary maintains order or not, retrieving data by key is still efcient. You can access any value by its key in constant time on average (O(1) time complexity), which is one of the main advantages of using dictionaries.\n",
        "\n",
        "If order doesn't matter for your use case (and you don't need to iterate in a specic order), dictionaries remain the better choice due to this efcient key-based lookup. If you need ordered data retrieval, consider a list or us orderdict (from the collection module) if you're working with an older version of Python that doesn't preserve order.\n",
        "\n",
        "#20. explain the difference between a list and a dictionary in terms of date retrieval?\n",
        "ANS= The key difference between lists and dictionaries in terms of data retrieval lies in how you access and retrieve data:\n",
        "\n",
        "1. List:\n",
        "\n",
        "● Data Retrieval by Index: In a list, elements are ordered and can be accessed using their index (position in the list). The index is an integer that corresponds to tPerformance:\n",
        "      ○ Retrieval of an item by index in a list is O(1) (constant time). This means that accessing any element by its index is fast and takes the same amount of time regardless of the size of the list.\n",
        "\n",
        "● Order: Lists maintain the order of insertion, so elements are accessed in the order they were added.\n",
        "\n",
        "2. Dictionary:\n",
        "\n",
        "   ● Data Retrieval by Key: In a dictionary, elements are stored as key-value pairs, and data is accessed using the key rather than an index. The key is a unique identier for the value.\n",
        "   ● he element's position, starting from 0.\n",
        "\n",
        "Performance:\n",
        "\n",
        "   ● Retrieval of a value by its key in a dictionary is O(1) on average (constant time). This is because dictionaries use a hashing mechanism to quickly locate the value associated with a key.\n",
        "\n",
        "Order (Python 3.7+): Dictionaries now maintain insertion order (in Python 3.7 and later), but data retrieval is still based on the key. The order of the key-value pairs matters only when you're iterating over them.\n",
        "\n",
        "\n",
        "\n",
        "\n",
        "\n",
        "\n",
        "\n",
        "\n",
        "\n",
        "\n",
        "\n",
        "\n"
      ],
      "metadata": {
        "id": "ifYyICeMt-5H"
      }
    },
    {
      "cell_type": "code",
      "source": [
        "#1.Create a string with your name and print it\n",
        "name = \"YourName\"\n",
        "print(name)"
      ],
      "metadata": {
        "colab": {
          "base_uri": "https://localhost:8080/"
        },
        "id": "w2a6qCRQYl_v",
        "outputId": "4b16fc1f-b6af-4211-c501-38c0cf0622c7"
      },
      "execution_count": 2,
      "outputs": [
        {
          "output_type": "stream",
          "name": "stdout",
          "text": [
            "YourName\n"
          ]
        }
      ]
    },
    {
      "cell_type": "code",
      "source": [
        "#2.Find the length of the string\n",
        "\"Hello World\"\n",
        "print(len(\"Hello World\"))\n"
      ],
      "metadata": {
        "colab": {
          "base_uri": "https://localhost:8080/"
        },
        "id": "xNkdT-dpbslu",
        "outputId": "50a0c48e-42ea-4dba-a132-dc6e0e1e4c19"
      },
      "execution_count": 7,
      "outputs": [
        {
          "output_type": "stream",
          "name": "stdout",
          "text": [
            "11\n"
          ]
        }
      ]
    },
    {
      "cell_type": "code",
      "source": [
        "#3.Slice the first 3 characters from the string\n",
        "\"Python Programming\"\n",
        "print(\"Python Programming\"[:3])"
      ],
      "metadata": {
        "colab": {
          "base_uri": "https://localhost:8080/"
        },
        "id": "cC1IQwk9cLVh",
        "outputId": "f3785616-baa6-460b-db1f-41dfb7c067fd"
      },
      "execution_count": 8,
      "outputs": [
        {
          "output_type": "stream",
          "name": "stdout",
          "text": [
            "Pyt\n"
          ]
        }
      ]
    },
    {
      "cell_type": "code",
      "source": [
        "#4. convert the string \"hello\" to uppercase\n",
        "print(\"hello\".upper())"
      ],
      "metadata": {
        "colab": {
          "base_uri": "https://localhost:8080/"
        },
        "id": "BdVX6YKbd0Ps",
        "outputId": "4eeab6f2-c2b1-4056-e636-af1ff98cb63a"
      },
      "execution_count": 13,
      "outputs": [
        {
          "output_type": "stream",
          "name": "stdout",
          "text": [
            "HELLO\n"
          ]
        }
      ]
    },
    {
      "cell_type": "code",
      "source": [
        "#5. Replace \"apple\" with \"orange\" in the string \"I like apple\"\n",
        "print(\"I like apple\".replace(\"apple\", \"orange\"))"
      ],
      "metadata": {
        "colab": {
          "base_uri": "https://localhost:8080/"
        },
        "id": "ayTblRr0eXgV",
        "outputId": "559eb96c-fde3-44a6-bbc6-30fd958ac6df"
      },
      "execution_count": 14,
      "outputs": [
        {
          "output_type": "stream",
          "name": "stdout",
          "text": [
            "I like orange\n"
          ]
        }
      ]
    },
    {
      "cell_type": "code",
      "source": [
        "#6. Create a list with numbers 1 to 5 and print it\n",
        "numbers = [1, 2, 3, 4, 5]\n",
        "print(numbers)"
      ],
      "metadata": {
        "colab": {
          "base_uri": "https://localhost:8080/"
        },
        "id": "Q4bcZrepelnf",
        "outputId": "0eb77d74-5fb4-437f-cc70-22d8a2fd2e53"
      },
      "execution_count": 15,
      "outputs": [
        {
          "output_type": "stream",
          "name": "stdout",
          "text": [
            "[1, 2, 3, 4, 5]\n"
          ]
        }
      ]
    },
    {
      "cell_type": "code",
      "source": [
        "#7. Append the number 10 to the list [1, 2, 3, 4]\n",
        "numbers = [1, 2, 3, 4]\n",
        "numbers.append(10)\n",
        "print(numbers)"
      ],
      "metadata": {
        "colab": {
          "base_uri": "https://localhost:8080/"
        },
        "id": "OFlTJzh1ey9P",
        "outputId": "2a46e807-4d67-4844-d74e-5c0a7aa08302"
      },
      "execution_count": 16,
      "outputs": [
        {
          "output_type": "stream",
          "name": "stdout",
          "text": [
            "[1, 2, 3, 4, 10]\n"
          ]
        }
      ]
    },
    {
      "cell_type": "code",
      "source": [
        "#8.Remove the number 3 from the list [1, 2, 3, 4, 5]\n",
        "numbers = [1, 2, 3, 4, 5]\n",
        "numbers.remove(3)\n",
        "print(numbers)\n"
      ],
      "metadata": {
        "colab": {
          "base_uri": "https://localhost:8080/"
        },
        "id": "psCwP_ZZe_km",
        "outputId": "3e2e8900-385c-4edf-cc85-f83992c3d2b1"
      },
      "execution_count": 17,
      "outputs": [
        {
          "output_type": "stream",
          "name": "stdout",
          "text": [
            "[1, 2, 4, 5]\n"
          ]
        }
      ]
    },
    {
      "cell_type": "code",
      "source": [
        "#9. Access the second element in the list ['a', 'b', 'c', 'd']\n",
        "letters = ['a', 'b', 'c', 'd']\n",
        "print(letters[1])"
      ],
      "metadata": {
        "colab": {
          "base_uri": "https://localhost:8080/"
        },
        "id": "Lcs9EaF8fM3A",
        "outputId": "4855a6b3-17fb-441d-8490-4bec54f1e359"
      },
      "execution_count": 18,
      "outputs": [
        {
          "output_type": "stream",
          "name": "stdout",
          "text": [
            "b\n"
          ]
        }
      ]
    },
    {
      "cell_type": "code",
      "source": [
        "#10. Reverse the list [10, 20, 30, 40, 50]\n",
        "numbers = [10, 20, 30, 40, 50]\n",
        "numbers.reverse()\n",
        "print(numbers)"
      ],
      "metadata": {
        "colab": {
          "base_uri": "https://localhost:8080/"
        },
        "id": "GhPI48DnfSp8",
        "outputId": "24038fc5-f18d-4b1c-d687-81cf8b88c2fc"
      },
      "execution_count": 19,
      "outputs": [
        {
          "output_type": "stream",
          "name": "stdout",
          "text": [
            "[50, 40, 30, 20, 10]\n"
          ]
        }
      ]
    },
    {
      "cell_type": "code",
      "source": [
        "#11. Create a tuple with elements 100, 200, 300 and print it\n",
        "tuple_data = (100, 200, 300)\n",
        "print(tuple_data)"
      ],
      "metadata": {
        "colab": {
          "base_uri": "https://localhost:8080/"
        },
        "id": "T0jFR39lfc21",
        "outputId": "99abfb7c-854c-4765-b681-99dfda7e5a8c"
      },
      "execution_count": 20,
      "outputs": [
        {
          "output_type": "stream",
          "name": "stdout",
          "text": [
            "(100, 200, 300)\n"
          ]
        }
      ]
    },
    {
      "cell_type": "code",
      "source": [
        "#12. Access the second-to-last element of the tuple ('red', 'green', 'blue', 'yellow')\n",
        "colors = ('red', 'green', 'blue', 'yellow')\n",
        "print(colors[-2])\n"
      ],
      "metadata": {
        "colab": {
          "base_uri": "https://localhost:8080/"
        },
        "id": "gAvzwazYfk1r",
        "outputId": "de42a110-e55e-451e-9aaa-469038e56dfe"
      },
      "execution_count": 21,
      "outputs": [
        {
          "output_type": "stream",
          "name": "stdout",
          "text": [
            "blue\n"
          ]
        }
      ]
    },
    {
      "cell_type": "code",
      "source": [
        "#13. Find the minimum number in the tuple (10, 20, 5, 15)\n",
        "numbers = (10, 20, 5, 15)\n",
        "print(min(numbers))\n"
      ],
      "metadata": {
        "colab": {
          "base_uri": "https://localhost:8080/"
        },
        "id": "lnayenncfuZ1",
        "outputId": "2800119f-89a6-4739-cd00-7702ce51a362"
      },
      "execution_count": 22,
      "outputs": [
        {
          "output_type": "stream",
          "name": "stdout",
          "text": [
            "5\n"
          ]
        }
      ]
    },
    {
      "cell_type": "code",
      "source": [
        "#14.Find the index of the element \"cat\" in the tuple ('dog', 'cat', 'rabbit')\n",
        "animals = ('dog', 'cat', 'rabbit')\n",
        "print(animals.index(\"cat\"))"
      ],
      "metadata": {
        "colab": {
          "base_uri": "https://localhost:8080/"
        },
        "id": "6cidls0UfzwY",
        "outputId": "396e40a8-950e-4b5e-afbc-f22606978578"
      },
      "execution_count": 23,
      "outputs": [
        {
          "output_type": "stream",
          "name": "stdout",
          "text": [
            "1\n"
          ]
        }
      ]
    },
    {
      "cell_type": "code",
      "source": [
        "#15. Create a tuple containing three different fruits and check if \"kiwi\" is in it\n",
        "fruits = ('apple', 'banana', 'cherry')\n",
        "print(\"kiwi\" in fruits)"
      ],
      "metadata": {
        "colab": {
          "base_uri": "https://localhost:8080/"
        },
        "id": "IKXCFLTKf6vP",
        "outputId": "09d96370-7abc-4b65-868d-68b39083136a"
      },
      "execution_count": 24,
      "outputs": [
        {
          "output_type": "stream",
          "name": "stdout",
          "text": [
            "False\n"
          ]
        }
      ]
    },
    {
      "cell_type": "code",
      "source": [
        "#16.  Create a set with elements 'a', 'b', 'c' and print it\n",
        "letters_set = {'a', 'b', 'c'}\n",
        "print(letters_set)"
      ],
      "metadata": {
        "colab": {
          "base_uri": "https://localhost:8080/"
        },
        "id": "SKo1qXM_gDr1",
        "outputId": "82ebd9c5-104b-449d-f695-4cfe9d440319"
      },
      "execution_count": 25,
      "outputs": [
        {
          "output_type": "stream",
          "name": "stdout",
          "text": [
            "{'a', 'c', 'b'}\n"
          ]
        }
      ]
    },
    {
      "cell_type": "code",
      "source": [
        "#17.  Clear all elements from the set {1, 2, 3, 4, 5}\n",
        "numbers_set = {1, 2, 3, 4, 5}\n",
        "numbers_set.clear()\n",
        "print(numbers_set)\n"
      ],
      "metadata": {
        "colab": {
          "base_uri": "https://localhost:8080/"
        },
        "id": "C1nZCi9bgQVs",
        "outputId": "4be944ae-1b8c-4168-b597-143c57e19fb6"
      },
      "execution_count": 26,
      "outputs": [
        {
          "output_type": "stream",
          "name": "stdout",
          "text": [
            "set()\n"
          ]
        }
      ]
    },
    {
      "cell_type": "code",
      "source": [
        "#18. Remove element 4 from the set {1, 2, 3, 4}\n",
        "numbers_set = {1, 2, 3, 4}\n",
        "numbers_set.discard(4)\n",
        "print(numbers_set)\n"
      ],
      "metadata": {
        "colab": {
          "base_uri": "https://localhost:8080/"
        },
        "id": "UNGeWdLPgYfw",
        "outputId": "8ef9387a-d407-4aaf-efeb-c9b77a36a8d9"
      },
      "execution_count": 27,
      "outputs": [
        {
          "output_type": "stream",
          "name": "stdout",
          "text": [
            "{1, 2, 3}\n"
          ]
        }
      ]
    },
    {
      "cell_type": "code",
      "source": [
        "\n",
        "#19. Find the union of two sets {1, 2, 3} and {3, 4, 5}\n",
        "set1 = {1, 2, 3}\n",
        "set2 = {3, 4, 5}\n",
        "print(set1 | set2)\n",
        "print(set1 | set2)"
      ],
      "metadata": {
        "colab": {
          "base_uri": "https://localhost:8080/"
        },
        "id": "6AssyZzxgeIR",
        "outputId": "f46d4ea8-c407-4e15-84a1-6713fa4278cc"
      },
      "execution_count": 30,
      "outputs": [
        {
          "output_type": "stream",
          "name": "stdout",
          "text": [
            "{1, 2, 3, 4, 5}\n",
            "{1, 2, 3, 4, 5}\n"
          ]
        }
      ]
    },
    {
      "cell_type": "code",
      "source": [
        "#20. Find the intersection of two sets {1, 2, 3} and {2, 3, 4}\n",
        "print(set1 & set2)\n"
      ],
      "metadata": {
        "colab": {
          "base_uri": "https://localhost:8080/"
        },
        "id": "BaPHiU1Gg47c",
        "outputId": "15b24ec6-ddba-4710-b709-0648ccb08a44"
      },
      "execution_count": 31,
      "outputs": [
        {
          "output_type": "stream",
          "name": "stdout",
          "text": [
            "{3}\n"
          ]
        }
      ]
    },
    {
      "cell_type": "code",
      "source": [
        "#21. Write a code to create a dictionary with the keys \"name\", \"age\", and \"city\", and print it\n",
        "dic={\"name\":\"jhon\",\"age\":\"25\", \"city\":\"usa\"}\n",
        "print(dic)"
      ],
      "metadata": {
        "colab": {
          "base_uri": "https://localhost:8080/"
        },
        "id": "ehK7rGYehz_E",
        "outputId": "ebe170ea-1b65-4f61-d6fd-4ba9a07c2104"
      },
      "execution_count": 40,
      "outputs": [
        {
          "output_type": "stream",
          "name": "stdout",
          "text": [
            "{'name': 'jhon', 'age': '25', 'city': 'usa'}\n"
          ]
        }
      ]
    },
    {
      "cell_type": "code",
      "source": [
        "#22. . Write a code to add a new key-value pair \"country\": \"USA\" to the dictionary {'name': 'John', 'age': 25}\n",
        "dic={\"name\":\"john\",\"age\":\"25\"}\n",
        "dic[\"country\"]=\"usa\"\n",
        "print(dic)"
      ],
      "metadata": {
        "colab": {
          "base_uri": "https://localhost:8080/"
        },
        "id": "_mb66iL2weXQ",
        "outputId": "4d411d5a-bf08-4ef8-fb43-4cc6df8d6478"
      },
      "execution_count": 42,
      "outputs": [
        {
          "output_type": "stream",
          "name": "stdout",
          "text": [
            "{'name': 'john', 'age': '25', 'country': 'usa'}\n"
          ]
        }
      ]
    },
    {
      "cell_type": "code",
      "source": [
        "#23.. Write a code to access the value associated with the key \"name\" in the dictionary {'name': 'Alice', 'age': 30}.\n",
        "my_dict ={'name':'Alice','age':30}\n",
        "name_valu=my_dict['name']\n",
        "print(name_valu)"
      ],
      "metadata": {
        "colab": {
          "base_uri": "https://localhost:8080/"
        },
        "id": "2YfGm8Y5xWaB",
        "outputId": "e80d95e2-8fff-4fe4-b1b8-05510329a633"
      },
      "execution_count": 44,
      "outputs": [
        {
          "output_type": "stream",
          "name": "stdout",
          "text": [
            "Alice\n"
          ]
        }
      ]
    },
    {
      "cell_type": "code",
      "source": [
        "#24.Write a code to remove the key \"age\" from the dictionary {'name': 'Bob', 'age': 22, 'city': 'New York'}.\n",
        "dic={'name': 'Bob', 'age': 22, 'city': 'New York'}\n",
        "del dic['age']\n",
        "print(dic)"
      ],
      "metadata": {
        "colab": {
          "base_uri": "https://localhost:8080/"
        },
        "id": "AmzStwAzz_SR",
        "outputId": "e6ec3356-ae38-4a80-9efa-a61812e99922"
      },
      "execution_count": 46,
      "outputs": [
        {
          "output_type": "stream",
          "name": "stdout",
          "text": [
            "{'name': 'Bob', 'city': 'New York'}\n"
          ]
        }
      ]
    },
    {
      "cell_type": "code",
      "source": [
        "#25.Write a code to check if the key \"city\" exists in the dictionary {'name': 'Alice', 'city': 'Paris'}.\n",
        "dic={'name': 'Alice', 'city': 'paris'}\n",
        "print('city' in dic)"
      ],
      "metadata": {
        "colab": {
          "base_uri": "https://localhost:8080/"
        },
        "id": "isyla2nY09yP",
        "outputId": "7d7cc2bd-4604-4a2d-baac-d0e7b383b188"
      },
      "execution_count": 48,
      "outputs": [
        {
          "output_type": "stream",
          "name": "stdout",
          "text": [
            "True\n"
          ]
        }
      ]
    },
    {
      "cell_type": "code",
      "source": [
        "#26. Write a code to create a list, a tuple, and a dictionary, and print them all.\n",
        "print(\"list:\",[1,2,3,])\n",
        "print(\"tuple:\", (4,5,6,))\n",
        "print(\"dictionart:\",{'a':1,'b':2, 'c': 3})"
      ],
      "metadata": {
        "colab": {
          "base_uri": "https://localhost:8080/"
        },
        "id": "0kzHlbx-1st_",
        "outputId": "e675af50-c188-4ea3-e848-afefecda81a5"
      },
      "execution_count": 50,
      "outputs": [
        {
          "output_type": "stream",
          "name": "stdout",
          "text": [
            "list: [1, 2, 3]\n",
            "tuple: (4, 5, 6)\n",
            "dictionart: {'a': 1, 'b': 2, 'c': 3}\n"
          ]
        }
      ]
    },
    {
      "cell_type": "code",
      "source": [
        "#27.Write a code to create a list of 5 random numbers between 1 and 100, sort it in ascending order, and print the result.(replaced)\n",
        "l=[26,15,12,22,20]\n",
        "l.sort()\n",
        "print(l)\n"
      ],
      "metadata": {
        "colab": {
          "base_uri": "https://localhost:8080/"
        },
        "id": "xu7txS962ztC",
        "outputId": "c6edde6c-ad71-4c67-8c2e-f8143fad1617"
      },
      "execution_count": 55,
      "outputs": [
        {
          "output_type": "stream",
          "name": "stdout",
          "text": [
            "[12, 15, 20, 22, 26]\n"
          ]
        }
      ]
    },
    {
      "cell_type": "code",
      "source": [
        "#28. Write a code to create a list with strings and print the element at the third index.\n",
        "l = [\"a\", \"b\", \"c\", \"d\", \"e\"]\n",
        "print(l[2])"
      ],
      "metadata": {
        "colab": {
          "base_uri": "https://localhost:8080/"
        },
        "id": "eGQTOKRg4Vf9",
        "outputId": "ef9c2d79-9768-4097-f768-bbdcf77fb91f"
      },
      "execution_count": 67,
      "outputs": [
        {
          "output_type": "stream",
          "name": "stdout",
          "text": [
            "c\n"
          ]
        }
      ]
    },
    {
      "cell_type": "code",
      "source": [
        "#29.Write a code to combine two dictionaries into one and print the result.\n",
        "dic1={'a':1,'b':2}\n",
        "dic2={'c':3, 'd':4}\n",
        "dic1.update(dic2)\n",
        "print(dic1)"
      ],
      "metadata": {
        "colab": {
          "base_uri": "https://localhost:8080/"
        },
        "id": "c7OeBKU952JL",
        "outputId": "294210fb-0244-44fc-d5ba-cf603c4db820"
      },
      "execution_count": 69,
      "outputs": [
        {
          "output_type": "stream",
          "name": "stdout",
          "text": [
            "{'a': 1, 'b': 2, 'c': 3, 'd': 4}\n"
          ]
        }
      ]
    },
    {
      "cell_type": "code",
      "source": [
        "#30.  Write a code to convert a list of strings into a set.\n",
        "list=['a','b','c','a']\n",
        "list_set=set(list)\n",
        "print(set)"
      ],
      "metadata": {
        "colab": {
          "base_uri": "https://localhost:8080/"
        },
        "id": "ZlhRZWoh9IIx",
        "outputId": "1246caba-3c8f-4a25-9310-b81f78bc2b28"
      },
      "execution_count": 81,
      "outputs": [
        {
          "output_type": "stream",
          "name": "stdout",
          "text": [
            "<class 'set'>\n"
          ]
        }
      ]
    }
  ]
}